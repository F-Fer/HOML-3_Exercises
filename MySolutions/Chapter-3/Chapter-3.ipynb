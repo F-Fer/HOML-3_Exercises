{
 "cells": [
  {
   "cell_type": "markdown",
   "id": "b557cc48-aabf-4625-af60-cfd208aaa713",
   "metadata": {},
   "source": [
    "# Exercises"
   ]
  },
  {
   "cell_type": "markdown",
   "id": "a83e3410-9e66-4ddf-8847-fad1ffcf34e6",
   "metadata": {},
   "source": [
    "## 1. "
   ]
  },
  {
   "cell_type": "code",
   "execution_count": 14,
   "id": "105350ab-8cf5-4105-b9ef-7eaec7148326",
   "metadata": {},
   "outputs": [],
   "source": [
    "import numpy as np\n",
    "import matplotlib.pyplot as plt\n",
    "import pandas as pd"
   ]
  },
  {
   "cell_type": "code",
   "execution_count": 19,
   "id": "bf59d06b-94c2-4f9d-ba75-40050df00a7b",
   "metadata": {},
   "outputs": [
    {
     "name": "stderr",
     "output_type": "stream",
     "text": [
      "C:\\Users\\Finn\\miniconda3\\envs\\homl3\\lib\\site-packages\\sklearn\\datasets\\_openml.py:1022: FutureWarning: The default value of `parser` will change from `'liac-arff'` to `'auto'` in 1.4. You can set `parser='auto'` to silence this warning. Therefore, an `ImportError` will be raised from 1.4 if the dataset is dense and pandas is not installed. Note that the pandas parser may return different data types. See the Notes Section in fetch_openml's API doc for details.\n",
      "  warn(\n"
     ]
    }
   ],
   "source": [
    "from sklearn.datasets import fetch_openml\n",
    "\n",
    "mnist = fetch_openml(\"mnist_784\", as_frame=False) #With as_frame=False, openml returns a NumPy array"
   ]
  },
  {
   "cell_type": "code",
   "execution_count": 3,
   "id": "6c8e47f8-d779-4b08-b8e0-8ee3ac339f8b",
   "metadata": {},
   "outputs": [],
   "source": [
    "X = mnist.data\n",
    "y = mnist.target"
   ]
  },
  {
   "cell_type": "code",
   "execution_count": 4,
   "id": "a8c7349a-bf18-4785-92fc-1450ae9362a1",
   "metadata": {},
   "outputs": [],
   "source": [
    "def plot_digit(image_data):\n",
    "    image = image_data.reshape(28, 28)\n",
    "    plt.imshow(image, cmap=\"binary\")\n",
    "    plt.axis(\"off\")"
   ]
  },
  {
   "cell_type": "code",
   "execution_count": 5,
   "id": "cd491c0e-444d-4f55-af5a-d680fa03796b",
   "metadata": {},
   "outputs": [
    {
     "data": {
      "image/png": "[encoded data removed]",
      "text/plain": [
       "<Figure size 640x480 with 1 Axes>"
      ]
     },
     "metadata": {},
     "output_type": "display_data"
    },
    {
     "name": "stdout",
     "output_type": "stream",
     "text": [
      "Label: 5\n"
     ]
    }
   ],
   "source": [
    "# Testing the function\n",
    "\n",
    "plot_digit(X[0])\n",
    "plt.show()\n",
    "print(f\"Label: {y[0]}\")"
   ]
  },
  {
   "cell_type": "markdown",
   "id": "899300f4-1d43-4cdc-8e8e-eae7ab6c8116",
   "metadata": {},
   "source": [
    "## Exploring the data"
   ]
  },
  {
   "cell_type": "markdown",
   "id": "677b3ffe-5675-446d-b7db-5a3bce95655d",
   "metadata": {},
   "source": [
    "### General Shape and dtypes of Attribute"
   ]
  },
  {
   "cell_type": "code",
   "execution_count": 6,
   "id": "56f58315-f595-4615-a2b9-bd348bee84b0",
   "metadata": {},
   "outputs": [],
   "source": [
    "# Copy dataset to expiriment\n",
    "X_ = X.copy()\n",
    "y_ = y.copy()"
   ]
  },
  {
   "cell_type": "code",
   "execution_count": 7,
   "id": "99a211ed-ab81-444e-b8c5-30aa256ccf15",
   "metadata": {},
   "outputs": [
    {
     "data": {
      "text/plain": [
       "array([[0., 0., 0., ..., 0., 0., 0.],\n",
       "       [0., 0., 0., ..., 0., 0., 0.],\n",
       "       [0., 0., 0., ..., 0., 0., 0.],\n",
       "       ...,\n",
       "       [0., 0., 0., ..., 0., 0., 0.],\n",
       "       [0., 0., 0., ..., 0., 0., 0.],\n",
       "       [0., 0., 0., ..., 0., 0., 0.]])"
      ]
     },
     "execution_count": 7,
     "metadata": {},
     "output_type": "execute_result"
    }
   ],
   "source": [
    "X_"
   ]
  },
  {
   "cell_type": "code",
   "execution_count": 8,
   "id": "417e493a-7c85-40aa-9139-672845560c18",
   "metadata": {},
   "outputs": [
    {
     "data": {
      "text/plain": [
       "array(['5', '0', '4', ..., '4', '5', '6'], dtype=object)"
      ]
     },
     "execution_count": 8,
     "metadata": {},
     "output_type": "execute_result"
    }
   ],
   "source": [
    "y_"
   ]
  },
  {
   "cell_type": "code",
   "execution_count": 33,
   "id": "6da2f1e9-b617-4109-81d9-e142c91e109a",
   "metadata": {},
   "outputs": [
    {
     "name": "stdout",
     "output_type": "stream",
     "text": [
      "<class 'numpy.ndarray'>\n",
      "<class 'numpy.ndarray'>\n"
     ]
    }
   ],
   "source": [
    "print(type(X_))\n",
    "print(type(y_))"
   ]
  },
  {
   "cell_type": "code",
   "execution_count": 10,
   "id": "afee3f41-053e-4853-ad4c-2a54a3c7b562",
   "metadata": {},
   "outputs": [
    {
     "name": "stdout",
     "output_type": "stream",
     "text": [
      "(70000, 784)\n",
      "(70000,)\n"
     ]
    }
   ],
   "source": [
    "print(X_.shape)\n",
    "print(y_.shape)"
   ]
  },
  {
   "cell_type": "code",
   "execution_count": 11,
   "id": "ab797118-ff8b-496f-b76f-61c20c5ef8f6",
   "metadata": {},
   "outputs": [
    {
     "data": {
      "text/plain": [
       "784"
      ]
     },
     "execution_count": 11,
     "metadata": {},
     "output_type": "execute_result"
    }
   ],
   "source": [
    "28 * 28"
   ]
  },
  {
   "cell_type": "markdown",
   "id": "8c2a42a0-1271-4aa0-b963-23416073b9ab",
   "metadata": {},
   "source": [
    "70,000 Images with 28 * 28 pixels each"
   ]
  },
  {
   "cell_type": "code",
   "execution_count": 32,
   "id": "f96fe986-c6a9-48d2-8849-eace1470aace",
   "metadata": {},
   "outputs": [
    {
     "data": {
      "text/plain": [
       "numpy.float64"
      ]
     },
     "execution_count": 32,
     "metadata": {},
     "output_type": "execute_result"
    }
   ],
   "source": [
    "type(X_[0][0])"
   ]
  },
  {
   "cell_type": "code",
   "execution_count": 20,
   "id": "09a67a74-ca5c-4d3e-b5a9-9a3e16cb0645",
   "metadata": {},
   "outputs": [
    {
     "data": {
      "text/plain": [
       "array([  0.,   1.,   2.,   3.,   4.,   5.,   6.,   7.,   8.,   9.,  10.,\n",
       "        11.,  12.,  13.,  14.,  15.,  16.,  17.,  18.,  19.,  20.,  21.,\n",
       "        22.,  23.,  24.,  25.,  26.,  27.,  28.,  29.,  30.,  31.,  32.,\n",
       "        33.,  34.,  35.,  36.,  37.,  38.,  39.,  40.,  41.,  42.,  43.,\n",
       "        44.,  45.,  46.,  47.,  48.,  49.,  50.,  51.,  52.,  53.,  54.,\n",
       "        55.,  56.,  57.,  58.,  59.,  60.,  61.,  62.,  63.,  64.,  65.,\n",
       "        66.,  67.,  68.,  69.,  70.,  71.,  72.,  73.,  74.,  75.,  76.,\n",
       "        77.,  78.,  79.,  80.,  81.,  82.,  83.,  84.,  85.,  86.,  87.,\n",
       "        88.,  89.,  90.,  91.,  92.,  93.,  94.,  95.,  96.,  97.,  98.,\n",
       "        99., 100., 101., 102., 103., 104., 105., 106., 107., 108., 109.,\n",
       "       110., 111., 112., 113., 114., 115., 116., 117., 118., 119., 120.,\n",
       "       121., 122., 123., 124., 125., 126., 127., 128., 129., 130., 131.,\n",
       "       132., 133., 134., 135., 136., 137., 138., 139., 140., 141., 142.,\n",
       "       143., 144., 145., 146., 147., 148., 149., 150., 151., 152., 153.,\n",
       "       154., 155., 156., 157., 158., 159., 160., 161., 162., 163., 164.,\n",
       "       165., 166., 167., 168., 169., 170., 171., 172., 173., 174., 175.,\n",
       "       176., 177., 178., 179., 180., 181., 182., 183., 184., 185., 186.,\n",
       "       187., 188., 189., 190., 191., 192., 193., 194., 195., 196., 197.,\n",
       "       198., 199., 200., 201., 202., 203., 204., 205., 206., 207., 208.,\n",
       "       209., 210., 211., 212., 213., 214., 215., 216., 217., 218., 219.,\n",
       "       220., 221., 222., 223., 224., 225., 226., 227., 228., 229., 230.,\n",
       "       231., 232., 233., 234., 235., 236., 237., 238., 239., 240., 241.,\n",
       "       242., 243., 244., 245., 246., 247., 248., 249., 250., 251., 252.,\n",
       "       253., 254., 255.])"
      ]
     },
     "execution_count": 20,
     "metadata": {},
     "output_type": "execute_result"
    }
   ],
   "source": [
    "np.unique(X_)"
   ]
  },
  {
   "cell_type": "markdown",
   "id": "546d5e07-f1c9-46f8-a955-2cde2a339e40",
   "metadata": {},
   "source": [
    "Apparently only integers between 0 and 2^8 - 1"
   ]
  },
  {
   "cell_type": "code",
   "execution_count": 29,
   "id": "b5713a7d-80eb-47fa-8464-47299f24a117",
   "metadata": {},
   "outputs": [
    {
     "data": {
      "text/plain": [
       "str"
      ]
     },
     "execution_count": 29,
     "metadata": {},
     "output_type": "execute_result"
    }
   ],
   "source": [
    "type(y_[0])"
   ]
  },
  {
   "cell_type": "markdown",
   "id": "a82ac0a5-6e48-49fa-a98b-14d7848d2bc3",
   "metadata": {},
   "source": [
    "=> String?"
   ]
  },
  {
   "cell_type": "code",
   "execution_count": 34,
   "id": "804631f5-fca1-4c9c-aaae-4d2988bf259d",
   "metadata": {},
   "outputs": [
    {
     "data": {
      "text/plain": [
       "array(['0', '1', '2', '3', '4', '5', '6', '7', '8', '9'], dtype=object)"
      ]
     },
     "execution_count": 34,
     "metadata": {},
     "output_type": "execute_result"
    }
   ],
   "source": [
    "np.unique(y_)"
   ]
  },
  {
   "cell_type": "markdown",
   "id": "01f14d1a-3f2b-44d6-8a04-a3b7730e3b40",
   "metadata": {},
   "source": [
    "Only strings from '0' to '9'"
   ]
  },
  {
   "cell_type": "markdown",
   "id": "840e9ed6-c342-4934-b26f-aa1f28b28b37",
   "metadata": {},
   "source": [
    "### Looking for missing values"
   ]
  },
  {
   "cell_type": "code",
   "execution_count": 35,
   "id": "a6105045-c1b5-410f-8cde-ce5ed7ac72eb",
   "metadata": {},
   "outputs": [
    {
     "data": {
      "text/plain": [
       "0"
      ]
     },
     "execution_count": 35,
     "metadata": {},
     "output_type": "execute_result"
    }
   ],
   "source": [
    "np.isnan(X_).sum() # Number of missing entries in X"
   ]
  },
  {
   "cell_type": "markdown",
   "id": "7190e2c8-8e16-4430-a259-ce21913b0392",
   "metadata": {},
   "source": [
    "### Looking at the noisiness of of the data"
   ]
  },
  {
   "cell_type": "markdown",
   "id": "43b70c4f-8ba6-4ffc-b7e4-e58bbdd15eae",
   "metadata": {},
   "source": [
    "Pixel variance"
   ]
  },
  {
   "cell_type": "code",
   "execution_count": 41,
   "id": "b83c2181-1048-46fc-8e60-ed7e8e03680a",
   "metadata": {},
   "outputs": [
    {
     "name": "stdout",
     "output_type": "stream",
     "text": [
      "(784,)\n"
     ]
    },
    {
     "data": {
      "image/png": "[encoded data removed]",
      "text/plain": [
       "<Figure size 640x480 with 1 Axes>"
      ]
     },
     "metadata": {},
     "output_type": "display_data"
    }
   ],
   "source": [
    "pixel_variance = np.var(X_, axis=0)\n",
    "print(pixel_variance.shape)\n",
    "\n",
    "plt.imshow(pixel_variance.reshape(28, 28), cmap=\"hot\")\n",
    "plt.show()"
   ]
  },
  {
   "cell_type": "markdown",
   "id": "68c882d8-1774-4f2f-8699-fa3c954488ab",
   "metadata": {},
   "source": [
    "The center pixels seem to be have greater importance. "
   ]
  },
  {
   "cell_type": "markdown",
   "id": "4b92adb7-8652-4991-89d7-d93692b62a2f",
   "metadata": {},
   "source": [
    "### Looking at the distributions"
   ]
  },
  {
   "cell_type": "code",
   "execution_count": 9,
   "id": "601587bd-37d4-4aaa-906c-a06ecd0b18d6",
   "metadata": {},
   "outputs": [
    {
     "data": {
      "image/png": "[encoded data removed]",
      "text/plain": [
       "<Figure size 640x480 with 1 Axes>"
      ]
     },
     "metadata": {},
     "output_type": "display_data"
    }
   ],
   "source": [
    "y_.sort()\n",
    "plt.hist(y_, bins=range(11), align=\"left\", rwidth=0.8)\n",
    "plt.xticks(range(11))\n",
    "plt.show()"
   ]
  },
  {
   "cell_type": "markdown",
   "id": "b05f3e7e-b584-4f94-b9ad-c1609522a501",
   "metadata": {},
   "source": [
    "Seems to be pretty evenly distributed, but 1 and 7 stick out slightly\n",
    "=> Uniform distribution"
   ]
  },
  {
   "cell_type": "code",
   "execution_count": 43,
   "id": "fa7871c4-d561-4a29-b569-0e34c075022e",
   "metadata": {},
   "outputs": [
    {
     "data": {
      "image/png": "[encoded data removed]",
      "text/plain": [
       "<Figure size 640x480 with 1 Axes>"
      ]
     },
     "metadata": {},
     "output_type": "display_data"
    }
   ],
   "source": [
    "plt.boxplot(y_.astype(int))\n",
    "plt.show()"
   ]
  },
  {
   "cell_type": "code",
   "execution_count": 47,
   "id": "4102e04e-cc33-4e69-a035-1d3d06336bb4",
   "metadata": {},
   "outputs": [
    {
     "data": {
      "image/png": "[encoded data removed]",
      "text/plain": [
       "<Figure size 640x480 with 1 Axes>"
      ]
     },
     "metadata": {},
     "output_type": "display_data"
    }
   ],
   "source": [
    "X_flattened = X_.flatten()\n",
    "plt.hist(X_flattened, bins=50, align=\"left\", rwidth=0.8, )\n",
    "plt.show()"
   ]
  },
  {
   "cell_type": "code",
   "execution_count": null,
   "id": "4fc49966-2dfe-4de0-a6a3-989bb6573fa5",
   "metadata": {},
   "outputs": [],
   "source": []
  }
 ],
 "metadata": {
  "kernelspec": {
   "display_name": "Python 3 (ipykernel)",
   "language": "python",
   "name": "python3"
  },
  "language_info": {
   "codemirror_mode": {
    "name": "ipython",
    "version": 3
   },
   "file_extension": ".py",
   "mimetype": "text/x-python",
   "name": "python",
   "nbconvert_exporter": "python",
   "pygments_lexer": "ipython3",
   "version": "3.10.15"
  }
 },
 "nbformat": 4,
 "nbformat_minor": 5
}
